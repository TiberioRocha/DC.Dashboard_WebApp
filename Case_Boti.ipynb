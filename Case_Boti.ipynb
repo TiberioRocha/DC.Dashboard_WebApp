{
  "nbformat": 4,
  "nbformat_minor": 0,
  "metadata": {
    "colab": {
      "name": "Case Boti.ipynb",
      "provenance": [],
      "authorship_tag": "ABX9TyMQzAj4vpaYElkOKpcfFOij",
      "include_colab_link": true
    },
    "kernelspec": {
      "name": "python3",
      "display_name": "Python 3"
    },
    "language_info": {
      "name": "python"
    }
  },
  "cells": [
    {
      "cell_type": "markdown",
      "metadata": {
        "id": "view-in-github",
        "colab_type": "text"
      },
      "source": [
        "<a href=\"https://colab.research.google.com/github/TiberioRocha/DC.Dashboard_WebApp/blob/main/Case_Boti.ipynb\" target=\"_parent\"><img src=\"https://colab.research.google.com/assets/colab-badge.svg\" alt=\"Open In Colab\"/></a>"
      ]
    },
    {
      "cell_type": "code",
      "metadata": {
        "id": "CbvHA9Ppbx4j"
      },
      "source": [
        "import pandas as pd\n",
        "import numpy as np"
      ],
      "execution_count": null,
      "outputs": []
    },
    {
      "cell_type": "markdown",
      "metadata": {
        "id": "A20-6JD_gICD"
      },
      "source": [
        "# Limpando NaN"
      ]
    },
    {
      "cell_type": "code",
      "metadata": {
        "id": "2LDi5DtMcAw1"
      },
      "source": [
        "df = pd.read_excel('/content/Case_v1_Jr_Dados_v1.xlsx')\n",
        "df.head()"
      ],
      "execution_count": null,
      "outputs": []
    },
    {
      "cell_type": "code",
      "metadata": {
        "id": "D7zHAS_5cM3Y"
      },
      "source": [
        "df_nan = df[df.isna().any(axis=1)]\n",
        "df_nan"
      ],
      "execution_count": null,
      "outputs": []
    },
    {
      "cell_type": "code",
      "metadata": {
        "id": "bTIediiQcmA3"
      },
      "source": [
        "df = df.dropna(how='all')"
      ],
      "execution_count": null,
      "outputs": []
    },
    {
      "cell_type": "code",
      "metadata": {
        "id": "FNhBXT6acqQu"
      },
      "source": [
        "df.isnull().sum()"
      ],
      "execution_count": null,
      "outputs": []
    },
    {
      "cell_type": "code",
      "metadata": {
        "id": "i3oEF-UUddZt"
      },
      "source": [
        "df = df.drop(labels=6998, axis=0)"
      ],
      "execution_count": null,
      "outputs": []
    },
    {
      "cell_type": "markdown",
      "metadata": {
        "id": "oJX9cB9Zs3ll"
      },
      "source": [
        "# Verificando pedidos duplicados"
      ]
    },
    {
      "cell_type": "code",
      "metadata": {
        "id": "VUMr2eXInHFW"
      },
      "source": [
        "df_dp = df[df['Pedido'].duplicated(keep=False)]\n",
        "df_dp.head()"
      ],
      "execution_count": null,
      "outputs": []
    },
    {
      "cell_type": "markdown",
      "metadata": {
        "id": "rjzD3bClgn81"
      },
      "source": [
        "# Data types e eliminando a hora"
      ]
    },
    {
      "cell_type": "code",
      "metadata": {
        "id": "oMOMZROvf-6y"
      },
      "source": [
        "df.dtypes"
      ],
      "execution_count": null,
      "outputs": []
    },
    {
      "cell_type": "code",
      "metadata": {
        "id": "t20GlBBCiVuV"
      },
      "source": [
        "df['Data da entrega real'] = pd.to_datetime(df['Data da entrega real'].dt.strftime('%d/%m/%Y'))\n",
        "df['Data solicitação'] = pd.to_datetime(df['Data solicitação'].dt.strftime('%d/%m/%Y'))\n",
        "df['Data prevista de entrega'] = pd.to_datetime(df['Data prevista de entrega'].dt.strftime('%d/%m/%Y'))"
      ],
      "execution_count": null,
      "outputs": []
    },
    {
      "cell_type": "markdown",
      "metadata": {
        "id": "kdoYaKqj4PLX"
      },
      "source": [
        "# Criando colunas de entrega"
      ]
    },
    {
      "cell_type": "code",
      "metadata": {
        "id": "g-MOZJGEiAvn"
      },
      "source": [
        "df['Previsão em dias'] = (df['Data prevista de entrega'] - df['Data solicitação']).dt.days.astype('int16')\n",
        "df['Entrega em dias'] = (df['Data da entrega real'] - df['Data solicitação']).dt.days.astype('int16')\n",
        "df['Atraso em dias'] = (df['Data da entrega real'] - df['Data prevista de entrega']).dt.days.astype('int16')\n",
        "df.loc[df['Atraso em dias'] < 0, ['Atraso em dias']] = 0"
      ],
      "execution_count": null,
      "outputs": []
    },
    {
      "cell_type": "code",
      "metadata": {
        "id": "2wbU8TNRswkt"
      },
      "source": [
        "df.head()"
      ],
      "execution_count": null,
      "outputs": []
    },
    {
      "cell_type": "markdown",
      "metadata": {
        "id": "gNZvrgqrAQZw"
      },
      "source": [
        "# Buscando e limpando dados inconsistentes"
      ]
    },
    {
      "cell_type": "code",
      "metadata": {
        "id": "GQNGVyz04oVI"
      },
      "source": [
        "df.describe(datetime_is_numeric=True)"
      ],
      "execution_count": null,
      "outputs": []
    },
    {
      "cell_type": "code",
      "metadata": {
        "id": "MpuOzziKuejT"
      },
      "source": [
        "#Pedidos no futuro e entregas no passado\n",
        "df.loc[(df['Entrega em dias'] < 0)]"
      ],
      "execution_count": null,
      "outputs": []
    },
    {
      "cell_type": "code",
      "metadata": {
        "id": "LcU1BY6G5hix"
      },
      "source": [
        "#Limpando esses pedidos\n",
        "df.drop(df.loc[(df['Entrega em dias'] < 0)].index, inplace = True)"
      ],
      "execution_count": null,
      "outputs": []
    },
    {
      "cell_type": "code",
      "metadata": {
        "id": "-3a8_0nfBHwZ"
      },
      "source": [
        "#Pedidos entregues no futuro\n",
        "df.loc[(df['Atraso em dias'] > 50)]"
      ],
      "execution_count": null,
      "outputs": []
    },
    {
      "cell_type": "code",
      "metadata": {
        "id": "UwpQ5u5fBUpC"
      },
      "source": [
        "#Limpando esses pedidos\n",
        "df.drop(df.loc[(df['Atraso em dias'] > 50)].index, inplace = True)"
      ],
      "execution_count": null,
      "outputs": []
    },
    {
      "cell_type": "code",
      "metadata": {
        "id": "Dac_yKpWDgaS"
      },
      "source": [
        "#Eliminando coluna H\n",
        "df = df.drop(['Tipo de Serviço'], axis=1)"
      ],
      "execution_count": null,
      "outputs": []
    },
    {
      "cell_type": "code",
      "metadata": {
        "id": "RvygOTy3DN5x"
      },
      "source": [
        "df.loc[(df['Previsão em dias'] > 50)]"
      ],
      "execution_count": null,
      "outputs": []
    },
    {
      "cell_type": "code",
      "metadata": {
        "id": "eHwK1AovL3De"
      },
      "source": [
        "df['SLA'] = 0\n",
        "df.loc[df['Atraso em dias'] > 0, ['SLA']] = 1"
      ],
      "execution_count": null,
      "outputs": []
    },
    {
      "cell_type": "code",
      "metadata": {
        "id": "gKoQ6zoCEJ9D"
      },
      "source": [
        "df.to_excel(r'Mooz_Limpo.xlsx', index = False)"
      ],
      "execution_count": null,
      "outputs": []
    },
    {
      "cell_type": "code",
      "metadata": {
        "id": "MugPr3xDG2Fp"
      },
      "source": [
        "df.head(50)"
      ],
      "execution_count": null,
      "outputs": []
    },
    {
      "cell_type": "code",
      "metadata": {
        "id": "FKleUjwYMrcC"
      },
      "source": [
        "df.loc[(df['UF'] == 'TO')].count()\n"
      ],
      "execution_count": null,
      "outputs": []
    },
    {
      "cell_type": "code",
      "metadata": {
        "id": "QHg2jziPdIXD"
      },
      "source": [
        ""
      ],
      "execution_count": null,
      "outputs": []
    }
  ]
}